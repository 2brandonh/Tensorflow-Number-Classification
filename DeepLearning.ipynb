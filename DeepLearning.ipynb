{
 "cells": [
  {
   "cell_type": "code",
   "execution_count": 1,
   "outputs": [
    {
     "name": "stderr",
     "text": [
      "ERROR:root:Internal Python error in the inspect module.\n",
      "Below is the traceback from this internal error.\n",
      "\n"
     ],
     "output_type": "stream"
    },
    {
     "name": "stdout",
     "text": [
      "Traceback (most recent call last):\n",
      "  File \"c:\\users\\2bran\\pycharmprojects\\tensorflow\\lib\\site-packages\\IPython\\core\\interactiveshell.py\", line 3319, in run_code\n",
      "    exec(code_obj, self.user_global_ns, self.user_ns)\n",
      "  File \"<ipython-input-1-9ff8b85b59ab>\", line 1, in <module>\n",
      "    import tensorflow as tf  # deep learning library. Tensors are just multi-dimensional arrays\n",
      "  File \"c:\\users\\2bran\\pycharmprojects\\tensorflow\\lib\\site-packages\\tensorflow\\__init__.py\", line 101, in <module>\n",
      "    from tensorflow_core import *\n",
      "  File \"c:\\users\\2bran\\pycharmprojects\\tensorflow\\lib\\site-packages\\tensorflow_core\\__init__.py\", line 40, in <module>\n",
      "    from tensorflow.python.tools import module_util as _module_util\n",
      "ModuleNotFoundError: No module named 'tensorflow.python.tools'\n",
      "\n",
      "During handling of the above exception, another exception occurred:\n",
      "\n",
      "Traceback (most recent call last):\n",
      "  File \"c:\\users\\2bran\\pycharmprojects\\tensorflow\\lib\\site-packages\\IPython\\core\\interactiveshell.py\", line 2034, in showtraceback\n",
      "    stb = value._render_traceback_()\n",
      "AttributeError: 'ModuleNotFoundError' object has no attribute '_render_traceback_'\n",
      "\n",
      "During handling of the above exception, another exception occurred:\n",
      "\n",
      "Traceback (most recent call last):\n",
      "  File \"c:\\users\\2bran\\pycharmprojects\\tensorflow\\lib\\site-packages\\IPython\\core\\ultratb.py\", line 1151, in get_records\n",
      "    return _fixed_getinnerframes(etb, number_of_lines_of_context, tb_offset)\n",
      "  File \"c:\\users\\2bran\\pycharmprojects\\tensorflow\\lib\\site-packages\\IPython\\core\\ultratb.py\", line 319, in wrapped\n",
      "    return f(*args, **kwargs)\n",
      "  File \"c:\\users\\2bran\\pycharmprojects\\tensorflow\\lib\\site-packages\\IPython\\core\\ultratb.py\", line 353, in _fixed_getinnerframes\n",
      "    records = fix_frame_records_filenames(inspect.getinnerframes(etb, context))\n",
      "  File \"C:\\Program Files (x86)\\Microsoft Visual Studio\\Shared\\Python37_64\\lib\\inspect.py\", line 1502, in getinnerframes\n",
      "    frameinfo = (tb.tb_frame,) + getframeinfo(tb, context)\n",
      "  File \"C:\\Program Files (x86)\\Microsoft Visual Studio\\Shared\\Python37_64\\lib\\inspect.py\", line 1460, in getframeinfo\n",
      "    filename = getsourcefile(frame) or getfile(frame)\n",
      "  File \"C:\\Program Files (x86)\\Microsoft Visual Studio\\Shared\\Python37_64\\lib\\inspect.py\", line 696, in getsourcefile\n",
      "    if getattr(getmodule(object, filename), '__loader__', None) is not None:\n",
      "  File \"C:\\Program Files (x86)\\Microsoft Visual Studio\\Shared\\Python37_64\\lib\\inspect.py\", line 733, in getmodule\n",
      "    if ismodule(module) and hasattr(module, '__file__'):\n",
      "  File \"c:\\users\\2bran\\pycharmprojects\\tensorflow\\lib\\site-packages\\tensorflow\\__init__.py\", line 50, in __getattr__\n",
      "    module = self._load()\n",
      "  File \"c:\\users\\2bran\\pycharmprojects\\tensorflow\\lib\\site-packages\\tensorflow\\__init__.py\", line 44, in _load\n",
      "    module = _importlib.import_module(self.__name__)\n",
      "  File \"C:\\Program Files (x86)\\Microsoft Visual Studio\\Shared\\Python37_64\\lib\\importlib\\__init__.py\", line 127, in import_module\n",
      "    return _bootstrap._gcd_import(name[level:], package, level)\n",
      "  File \"<frozen importlib._bootstrap>\", line 1006, in _gcd_import\n",
      "  File \"<frozen importlib._bootstrap>\", line 983, in _find_and_load\n",
      "  File \"<frozen importlib._bootstrap>\", line 953, in _find_and_load_unlocked\n",
      "  File \"<frozen importlib._bootstrap>\", line 219, in _call_with_frames_removed\n",
      "  File \"<frozen importlib._bootstrap>\", line 1006, in _gcd_import\n",
      "  File \"<frozen importlib._bootstrap>\", line 983, in _find_and_load\n",
      "  File \"<frozen importlib._bootstrap>\", line 967, in _find_and_load_unlocked\n",
      "  File \"<frozen importlib._bootstrap>\", line 677, in _load_unlocked\n",
      "  File \"<frozen importlib._bootstrap_external>\", line 728, in exec_module\n",
      "  File \"<frozen importlib._bootstrap>\", line 219, in _call_with_frames_removed\n",
      "  File \"c:\\users\\2bran\\pycharmprojects\\tensorflow\\lib\\site-packages\\tensorflow_core\\__init__.py\", line 40, in <module>\n",
      "    from tensorflow.python.tools import module_util as _module_util\n",
      "ModuleNotFoundError: No module named 'tensorflow.python.tools'\n"
     ],
     "output_type": "stream"
    },
    {
     "traceback": [
      "\u001b[1;31m---------------------------------------------------------------------------\u001b[0m"
     ],
     "ename": "ModuleNotFoundError",
     "evalue": "No module named 'tensorflow.python.tools'",
     "output_type": "error"
    }
   ],
   "source": [
    "import tensorflow as tf  # deep learning library. Tensors are just multi-dimensional arrays\n",
    "import numpy as np\n",
    "mnist = tf.keras.datasets.mnist  # mnist is a dataset of 28x28 images of handwritten digits and their labels\n",
    "(x_train, y_train),(x_test, y_test) = mnist.load_data()  # unpacks images to x_train/x_test and labels to y_train/y_test\n",
    "\n",
    "x_train = tf.keras.utils.normalize(x_train, axis=1)  # scales data between 0 and 1\n",
    "x_test = tf.keras.utils.normalize(x_test, axis=1)  # scales data between 0 and 1\n",
    "\n",
    "#Much more accurate when normalized to values between 0 and 1, think sigmoid function\n",
    "\n",
    "model = tf.keras.models.Sequential()  # a basic feed-forward model\n",
    "model.add(tf.keras.layers.Flatten())  # takes our 28x28 and makes it 1x784 vector\n",
    "model.add(tf.keras.layers.Dense(128, activation=tf.nn.relu))  # a simple fully-connected layer, 128 units, relu activation\n",
    "model.add(tf.keras.layers.Dense(128, activation=tf.nn.relu))  # a simple fully-connected layer, 128 units, relu activation\n",
    "model.add(tf.keras.layers.Dense(10, activation=tf.nn.softmax))  # our output layer. 10 units for 10 classes. Softmax for probability distribution\n",
    "\n",
    "model.compile(optimizer='adam',  # Good default optimizer to start with, one I learned was stochastic gradient descent\n",
    "              loss='sparse_categorical_crossentropy',  # how will we calculate our \"error.\" Neural network aims to minimize loss.\n",
    "              metrics=['accuracy'])  # what to track\n",
    "\n",
    "model.fit(x_train, y_train, epochs=4)  # train the model"
   ],
   "metadata": {
    "collapsed": false,
    "pycharm": {
     "name": "#%%\n",
     "is_executing": false
    }
   }
  },
  {
   "cell_type": "code",
   "execution_count": null,
   "outputs": [],
   "source": [
    "val_loss, val_acc = model.evaluate(x_test, y_test)\n",
    "print(val_loss) # too much loss will result in memorization of the set (overfitting) or no accuracy\n",
    "print(val_acc)"
   ],
   "metadata": {
    "collapsed": false,
    "pycharm": {
     "name": "#%%\n",
     "is_executing": false
    }
   }
  },
  {
   "cell_type": "code",
   "execution_count": null,
   "outputs": [],
   "source": [
    "model.save('num_reader.model')"
   ],
   "metadata": {
    "collapsed": false,
    "pycharm": {
     "name": "#%%\n",
     "is_executing": false
    }
   }
  },
  {
   "cell_type": "code",
   "execution_count": null,
   "outputs": [],
   "source": [
    "import tensorflow as tf\n",
    "new_model = tf.keras.models.load_model('num_reader.model')"
   ],
   "metadata": {
    "collapsed": false,
    "pycharm": {
     "name": "#%%\n",
     "is_executing": false
    }
   }
  },
  {
   "cell_type": "code",
   "execution_count": null,
   "outputs": [],
   "source": [
    "predictions = new_model.predict(np.array([x_test]))\n",
    "# arg max returns element with highest value (probability)"
   ],
   "metadata": {
    "collapsed": false,
    "pycharm": {
     "name": "#%%\n",
     "is_executing": false
    }
   }
  },
  {
   "cell_type": "code",
   "execution_count": null,
   "outputs": [],
   "source": [
    "print(predictions)"
   ],
   "metadata": {
    "collapsed": false,
    "pycharm": {
     "name": "#%%\n",
     "is_executing": false
    }
   }
  },
  {
   "cell_type": "code",
   "execution_count": null,
   "outputs": [],
   "source": [
    "import ipywidgets as widgets\n",
    "import matplotlib.pyplot as plt\n",
    "import numpy as np\n",
    "import random\n",
    "import time\n",
    "\n",
    "from IPython.display import clear_output\n",
    "\n",
    "\n",
    "def button_create():\n",
    "    btn = widgets.Button(description='Random Number')\n",
    "    display(btn)\n",
    "    def btn_eventhandler(obj):\n",
    "        rand()\n",
    "    btn.on_click(btn_eventhandler)\n",
    "\n",
    "button_create()\n",
    "\n",
    "def rand():\n",
    "    clear_output()\n",
    "    button_create()\n",
    "    time.sleep(.1)\n",
    "    \n",
    "    x = random.randint(0,10000) #since 10000 test data\n",
    "    print(np.argmax(predictions[x]))\n",
    "    \n",
    "    plt.imshow(x_test[x],cmap=plt.cm.binary)\n",
    "    plt.show()"
   ],
   "metadata": {
    "collapsed": false,
    "pycharm": {
     "name": "#%%\n",
     "is_executing": false
    }
   }
  },
  {
   "cell_type": "code",
   "execution_count": null,
   "outputs": [],
   "source": [
    "import numpy as np\n",
    "import matplotlib.pyplot as plt\n",
    "import matplotlib.image as mpimg\n",
    "import os\n",
    "import cv2\n",
    "\n",
    "DATADIR = \"C:/Users/2bran/PycharmProjects/NN2/test.png\" #png will prevent the strange dithering\n",
    "\n",
    "#img_array = mpimg.imread(DATADIR)\n",
    "img_array = cv2.imread(DATADIR,cv2.IMREAD_GRAYSCALE)\n",
    "print(img_array.shape) #WORKS HERE\n",
    "\n",
    "# print(img_array)\n",
    "#It did print the image as a numpy array\n",
    "\n",
    "img_array = tf.keras.utils.normalize(img_array, axis=1)\n",
    "\n",
    "plt.imshow(img_array, cmap = plt.cm.binary)\n",
    "plt.show()\n",
    "\n",
    "#plt.cm.binary show BW inverted, yes\n",
    "\n",
    "#plt.imshow(test, cmap = 'gray')\n",
    "#print(test)\n",
    "\n",
    "# NEEDED PIL FOR THIS APPARENTLY"
   ],
   "metadata": {
    "collapsed": false,
    "pycharm": {
     "name": "#%%\n",
     "is_executing": false
    }
   }
  },
  {
   "cell_type": "code",
   "execution_count": null,
   "outputs": [],
   "source": [
    "img_array = np.array(img_array).reshape(-1, 28, 28) # need -1 so total size remains constant\n",
    "print(np.argmax(new_model.predict(img_array)))"
   ],
   "metadata": {
    "collapsed": false,
    "pycharm": {
     "name": "#%%\n",
     "is_executing": false
    }
   }
  },
  {
   "cell_type": "code",
   "execution_count": null,
   "outputs": [],
   "source": [
    "print(img_array)\n",
    "#plt.imshow(x_test[1],cmap=plt.cm.binary)\n",
    "#print(np.argmax(predictions[1]))"
   ],
   "metadata": {
    "collapsed": false,
    "pycharm": {
     "name": "#%%\n",
     "is_executing": false
    }
   }
  },
  {
   "cell_type": "code",
   "execution_count": null,
   "outputs": [],
   "source": [
    "# testing function should be CLEAR SAVE PREDICT\n",
    "from numpy import complex, array\n",
    "\n",
    "# from urllib import request\n",
    "# # access request directly.\n",
    "# mine = request()\n",
    "# \n",
    "# import urllib.request\n",
    "# # used as urllib.request\n",
    "# mine = urllib.request()\n",
    "\n",
    "\n",
    "\n",
    "import numpy\n",
    "from tkinter import *\n",
    "from PIL import Image, ImageEnhance\n",
    "import tkinter.font\n",
    "import tkinter as tk\n",
    "\n",
    "def drawnum():\n",
    "    clear_output()\n",
    "    button_2()\n",
    "    time.sleep(.1)\n",
    "    \n",
    "    WIDTH = 250\n",
    "    \n",
    "    img = Image.new('RGB', (WIDTH, WIDTH)) # originally black bg\n",
    "    pixels = img.load() # to use pixels [x, y]\n",
    "    \n",
    "    #plt.imshow(img, cmap = plt.cm.binary) #transforms to white, works!\n",
    "    #plt.show()\n",
    "    \n",
    "    #img.show() # showing the PNG file\n",
    "    \n",
    "    # ---- Define class -----\n",
    "    class PaintApp:\n",
    "    \n",
    "    # ---- Define class variables -----\n",
    "        drawing_tool = \"pencil\"\n",
    "        \n",
    "        left_but  = \"up\"\n",
    "    \n",
    "        x_pos, y_pos = None, None # null valaue\n",
    "    \n",
    "        x1_line_pt, y1_line_pt = None, None\n",
    "    \n",
    "    # ---- Catch Mouse Down ----- \n",
    "        def left_but_down(self, event = None):\n",
    "            self.left_but = \"down\"\n",
    "        \n",
    "            self.x1_line_pt = event.x\n",
    "            self.y1_line_pt = event.y\n",
    "        \n",
    "    # ---- Catch Mouse Up -----\n",
    "        def left_but_up(self, event = None):\n",
    "            self.left_but = \"up\"\n",
    "        \n",
    "            self.x_pos = None\n",
    "            self.y_pos = None\n",
    "        \n",
    "            if self.drawing_tool == \"line\":\n",
    "                self.line_draw(event)\n",
    "                \n",
    "    # ---- Catch Mouse Move -----\n",
    "        def motion(self, event = None):\n",
    "    \n",
    "            if self.drawing_tool == \"pencil\":\n",
    "                self.pencil_drawing(event)\n",
    "                \n",
    "    # ---- Draw Pencil -----\n",
    "    \n",
    "        def pencil_drawing(self, event = None):\n",
    "            \n",
    "            x = self.x_pos\n",
    "            y = self.y_pos\n",
    "            \n",
    "            if self.left_but == \"down\":\n",
    "                if self.x_pos is not None and self.y_pos is not None and 1 <= x <= WIDTH - 3 and 1 <= y <= WIDTH - 3:\n",
    "                    \n",
    "                    event.widget.create_line(self.x_pos, self.y_pos, event.x, event.y, smooth = TRUE)\n",
    "                    # event.widget.create_line(self.x_pos + 1, self.y_pos, event.x, event.y, smooth = TRUE)\n",
    "                    # event.widget.create_line(self.x_pos - 1, self.y_pos, event.x, event.y, smooth = TRUE)\n",
    "                    # event.widget.create_line(self.x_pos, self.y_pos + 1, event.x, event.y, smooth = TRUE)\n",
    "                    # event.widget.create_line(self.x_pos, self.y_pos - 1, event.x, event.y, smooth = TRUE)\n",
    "\n",
    "              \n",
    "                    for i in range(10):\n",
    "                        \n",
    "                        if x>=WIDTH - 12 or x <= 1 or y <= 1 or y >= WIDTH - 12: #accounting for border\n",
    "                            break\n",
    "                        \n",
    "                        num = 160\n",
    "                    \n",
    "                        pixels[x + i, y] = (170 -  num, 170 -  num, 170 - num)\n",
    "                        pixels[x - i, y] = (170 -  num, 170 - num, 170 - num)\n",
    "                        pixels[x, y - i] = (170 -  num, 170 - num, 170 - num)\n",
    "                        pixels[x, y + i] = (170 -num, 170 - num, 170 - num)\n",
    "                        pixels[x - i, y + i] = (170 - num, 170 - num, 170 - num)\n",
    "                        pixels[x - i, y + i] = (170 - num, 170 - num, 170 - num)\n",
    "                        pixels[x + i, y - i] = (170 - num, 170 - num, 170 - num)\n",
    "                        pixels[x - i, y - i] = (170 - num, 170 - num, 170 - num)\n",
    "                        pixels[x,y] = (170 - num, 170 - num, 170 - num)\n",
    "                        \n",
    "                     \n",
    "                    \n",
    "                        # pixels[x + i, y] = 1\n",
    "                        # pixels[x - i, y] = 1\n",
    "                        # pixels[x, y - i] = 1\n",
    "                        # pixels[x, y + i] = 1\n",
    "                        # pixels[x - i, y + i] = 1\n",
    "                        # pixels[x - i, y + i] = 1\n",
    "                        # pixels[x + i, y - i] = 1\n",
    "                        # pixels[x - i, y - i] = 1\n",
    "                        # pixels[x,y] = 1\n",
    "                    \n",
    "                self.x_pos = event.x\n",
    "                self.y_pos = event.y\n",
    "            \n",
    "    # ---- Initialize -----\n",
    "    \n",
    "        def __init__(self, root):\n",
    "            drawing_area = Canvas(root, width = WIDTH, height = WIDTH) # REMEMBER TO RESHAPE AFTER\n",
    "        \n",
    "            drawing_area.pack()\n",
    "        \n",
    "            drawing_area.bind(\"<Motion>\", self.motion)\n",
    "            drawing_area.bind(\"<ButtonPress-1>\", self.left_but_down)\n",
    "            drawing_area.bind(\"<ButtonRelease-1>\", self.left_but_up)\n",
    "    \n",
    "    root = Tk() #main window of application, THIS IS MAKING AN OBJECT OF Tk CLASS\n",
    "    paint_app = PaintApp(root)\n",
    "    root.mainloop()\n",
    "    \n",
    "    \n",
    "    #new_img = np.array(img)\n",
    "    new_img = img.convert('I')\n",
    "    new_img = tf.keras.utils.normalize(new_img, axis=1)\n",
    "    new_img = cv2.resize(new_img, (28, 28))\n",
    "\n",
    "    \n",
    "    plt.imshow(new_img, cmap = plt.cm.binary) #transforms to white, works!\n",
    "    plt.show()\n",
    "\n",
    "    \n",
    "\n",
    "    data = np.array(new_img).reshape(-1, 28, 28) # need -1 so total size remains constant\n",
    "    print(np.argmax(new_model.predict(data)))\n",
    "\n",
    "\n",
    "def button_2():\n",
    "    btn2 = widgets.Button(description='Draw a number')\n",
    "    display(btn2)\n",
    "    def btn2_eventhandler(obj):\n",
    "        drawnum()\n",
    "    btn2.on_click(btn2_eventhandler)\n",
    "\n",
    "button_2()\n",
    "\n",
    "\n",
    "    \n",
    "\n"
   ],
   "metadata": {
    "collapsed": false,
    "pycharm": {
     "name": "#%%\n",
     "is_executing": false
    }
   }
  }
 ],
 "metadata": {
  "kernelspec": {
   "name": "python3",
   "language": "python",
   "display_name": "Python 3"
  },
  "language_info": {
   "codemirror_mode": {
    "name": "ipython",
    "version": 2
   },
   "file_extension": ".py",
   "mimetype": "text/x-python",
   "name": "python",
   "nbconvert_exporter": "python",
   "pygments_lexer": "ipython2",
   "version": "2.7.6"
  },
  "pycharm": {
   "stem_cell": {
    "cell_type": "raw",
    "source": [],
    "metadata": {
     "collapsed": false
    }
   }
  }
 },
 "nbformat": 4,
 "nbformat_minor": 0
}